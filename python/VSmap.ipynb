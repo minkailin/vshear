{
 "metadata": {
  "name": "",
  "signature": "sha256:7a1f0d5a18eb9e233bcb6399f6fb7a3d4c5847429eaaa04fe1faceac1e24ae72"
 },
 "nbformat": 3,
 "nbformat_minor": 0,
 "worksheets": [
  {
   "cells": [
    {
     "cell_type": "code",
     "collapsed": false,
     "input": [
      "%pylab inline"
     ],
     "language": "python",
     "metadata": {},
     "outputs": [
      {
       "output_type": "stream",
       "stream": "stdout",
       "text": [
        "Populating the interactive namespace from numpy and matplotlib\n"
       ]
      }
     ],
     "prompt_number": 1
    },
    {
     "cell_type": "code",
     "collapsed": false,
     "input": [
      "#Isothermal disk model parameters and functions\n",
      "p = -39./14\n",
      "q = -3./7\n",
      "Gam = 1.0 #generalize to other Gamma later?\n",
      "gam = 5./3\n",
      "s = q + p*(1-Gam)\n",
      "def OmK(r): return 1/r**1.5\n",
      "def gz(r,z): return -z / (r**2 + z**2)**1.5\n",
      "def rhomid(r): return r**p\n",
      "def eps(r):\n",
      "    mu = 2.33\n",
      "    Tnorm = 1.\n",
      "    return 3.36e-2* sqrt(Tnorm/mu) * r**(0.5 + q/2)\n",
      "def H_AU(r): return eps(r)*r\n",
      "def rho_on_rhomid(r,z):\n",
      "    return exp(1/eps(r)**2 * (1/sqrt(1+z**2/r**2) -1))\n",
      "def Om_on_OmK(r,z):\n",
      "    return sqrt(1 + (p+q)*eps(r)**2 + q*(1 - 1/sqrt(1+z**2/r**2)))\n",
      "def dLdz_on_OmKsq(r,z): return s*z / (Gam * r * (1 + z**2/r**2)**1.5)\n",
      "def vsh_on_OmK(r,z): return dLdz_on_OmKsq(r,z) / (2 * Om_on_OmK(r,z))\n",
      "def Brunt_on_OmK(r,z): return sqrt(1 - Gam/gam) * abs(gz(r,z)) / OmK(r)**2 / H_AU(r)"
     ],
     "language": "python",
     "metadata": {},
     "outputs": [],
     "prompt_number": 2
    },
    {
     "cell_type": "code",
     "collapsed": false,
     "input": [
      "#grid of r & z values\n",
      "(nr, nz) = (200,100)\n",
      "#r = linspace(.1,100, nr)\n",
      "lr = logspace(-1,2, nr)\n",
      "#z = linspace(0,10, nz)\n",
      "zh = linspace(0,5,nz) #want to cover a fixed range z/H\n",
      "rv, zHv =  meshgrid(lr,zh)\n",
      "zv = zHv * H_AU(rv) #convert array of z values to AU"
     ],
     "language": "python",
     "metadata": {},
     "outputs": [],
     "prompt_number": 3
    },
    {
     "cell_type": "code",
     "collapsed": false,
     "input": [
      "#plotting parameters and options\n",
      "cm = 'YlGnBu'\n",
      "ori = 'lower'\n",
      "from matplotlib import rcParams\n",
      "rcParams['xtick.direction'] = 'out'\n",
      "rcParams['ytick.direction'] = 'out'\n",
      "from matplotlib.colors import LogNorm\n",
      "from mpl_toolkits.axes_grid1 import ImageGrid\n",
      "from mpl_toolkits.axes_grid1 import make_axes_locatable\n",
      "def stretchedmap(startmapname, stretchfn):\n",
      "    '''\n",
      "    modify a named colorbar by stretching the values 0,1 according to a specified function 'stretchfn'\n",
      "    \n",
      "    for instance a power (square or sqrt) can strecth the colorbar to emphasize variations closer to one end or another.\n",
      "    \n",
      "    the advantage of modifying the colormap is that colorbars should work automatically.\n",
      "    '''\n",
      "    x = linspace(0,1,256)\n",
      "    startmap = mpl.cm.get_cmap(startmapname)\n",
      "    return mpl.colors.ListedColormap(startmap(stretchfn(x)), name = 'stretchedmap')"
     ],
     "language": "python",
     "metadata": {},
     "outputs": [],
     "prompt_number": 4
    },
    {
     "cell_type": "code",
     "collapsed": true,
     "input": [
      "#test plot\n",
      "f, ax = plt.subplots()\n",
      "im = ax.pcolormesh(rv,  zHv, gz(rv, zv)/ OmK(rv)**2 /H_AU(rv), cmap = cm)#, norm = LogNorm())\n",
      "ax.set_xscale('log')\n",
      "f.colorbar(im)"
     ],
     "language": "python",
     "metadata": {},
     "outputs": [
      {
       "metadata": {},
       "output_type": "pyout",
       "prompt_number": 89,
       "text": [
        "<matplotlib.colorbar.Colorbar instance at 0x1113d3b00>"
       ]
      },
      {
       "metadata": {},
       "output_type": "display_data",
       "png": "[encoded data removed]",
       "text": [
        "<matplotlib.figure.Figure at 0x1113af790>"
       ]
      }
     ],
     "prompt_number": 89
    },
    {
     "cell_type": "code",
     "collapsed": false,
     "input": [
      "#pair of test plots\n",
      "f = plt.figure(figsize = (6,2.5))\n",
      "\n",
      "plt.subplot(1,2,1)\n",
      "plt.pcolormesh(rv,  zHv, OmK(rv), cmap = cm, norm = LogNorm())\n",
      "plt.colorbar()\n",
      "plt.xscale('log')\n",
      "plt.title(r'$\\Omega_K$')\n",
      "plt.xlabel('$r$ [AU]')\n",
      "plt.ylabel('$z/H$')\n",
      "\n",
      "\n",
      "plt.subplot(1,2,2)\n",
      "pcolormesh(rv,  zHv, zv/rv, cmap = cm)#, norm = LogNorm())\n",
      "plt.colorbar()\n",
      "plt.xscale('log')\n",
      "plt.xlabel('$r$ [AU]')\n",
      "#plt.title('spherical radius [AU]')\n",
      "plt.tight_layout()"
     ],
     "language": "python",
     "metadata": {},
     "outputs": [
      {
       "metadata": {},
       "output_type": "display_data",
       "png": "[encoded data removed]",
       "text": [
        "<matplotlib.figure.Figure at 0x10cd6bf90>"
       ]
      }
     ],
     "prompt_number": 5
    },
    {
     "cell_type": "code",
     "collapsed": false,
     "input": [
      "fm = plt.figure(figsize = (9,3))\n",
      "\n",
      "imagefn = pcolormesh\n",
      "\n",
      "plt.subplot(1,3,1)\n",
      "imagefn(rv,  zHv, rho_on_rhomid(rv,zv)*rhomid(rv), cmap = cm, norm = LogNorm())\n",
      "cb2 = plt.colorbar()#ticks = (1e-8, 1e-4, 1))\n",
      "for label in cb2.ax.yaxis.get_ticklabels()[1::2]:\n",
      "    label.set_visible(False)\n",
      "plt.xscale('log')\n",
      "plt.xlabel('$r$ [AU]')\n",
      "plt.title('gas density:\\n'+r'$\\rho \\, / \\, \\rho_{0}(1\\,{\\rm AU})$')\n",
      "plt.ylabel('$z/H$')\n",
      "\n",
      "plt.subplot(1,3,2)\n",
      "g = lambda x: 1-x**2 #stretch function\n",
      "strm = stretchedmap(cm, g)\n",
      "imagefn(rv,  zHv, vsh_on_OmK(rv, zv), cmap = strm)#, norm = LogNorm())\n",
      "cb1 = plt.colorbar()\n",
      "for label in cb1.ax.yaxis.get_ticklabels()[1::2]:\n",
      "    label.set_visible(False)\n",
      "plt.xscale('log')\n",
      "plt.title('vertical shear: \\n $\\partial (r \\Omega)/ \\partial z \\; [\\Omega_K]$')\n",
      "plt.xlabel('$r$ [AU]')\n",
      "\n",
      "plt.subplot(1,3,3)\n",
      "imagefn(rv,  zHv, Brunt_on_OmK(rv, zv), cmap = cm)#, norm = LogNorm())\n",
      "cb3 = plt.colorbar()#ticks = (1e-8, 1e-4, 1))\n",
      "for label in cb3.ax.yaxis.get_ticklabels()[1::2]:\n",
      "    label.set_visible(False)\n",
      "plt.xscale('log')\n",
      "plt.xlabel('$r$ [AU]')\n",
      "plt.title('buoyancy:\\n $N_z \\; [\\Omega_K]$')\n",
      "\n",
      "plt.tight_layout()\n",
      "plt.savefig('rhoshearNz500.png',dpi = 500) \n",
      "#png exporting works better for imaging alias issues, vs. vectorized graphics of pdf\n",
      "#high dpi needed to get fonts looking good."
     ],
     "language": "python",
     "metadata": {},
     "outputs": []
    },
    {
     "cell_type": "code",
     "collapsed": false,
     "input": [
      "fm.savefig('rhoshearNz.pdf')"
     ],
     "language": "python",
     "metadata": {},
     "outputs": [],
     "prompt_number": 7
    },
    {
     "cell_type": "code",
     "collapsed": false,
     "input": [],
     "language": "python",
     "metadata": {},
     "outputs": []
    }
   ],
   "metadata": {}
  }
 ]
}